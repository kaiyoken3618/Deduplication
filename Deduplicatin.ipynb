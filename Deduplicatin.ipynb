{
  "nbformat": 4,
  "nbformat_minor": 0,
  "metadata": {
    "colab": {
      "name": "Deduplicatin.ipynb",
      "provenance": [],
      "collapsed_sections": [],
      "authorship_tag": "ABX9TyO9R7/dOZRCDx5E0/IOhVba",
      "include_colab_link": true
    },
    "kernelspec": {
      "name": "python3",
      "display_name": "Python 3"
    },
    "language_info": {
      "name": "python"
    }
  },
  "cells": [
    {
      "cell_type": "markdown",
      "metadata": {
        "id": "view-in-github",
        "colab_type": "text"
      },
      "source": [
        "<a href=\"https://colab.research.google.com/github/kaiyoken3618/Deduplication/blob/main/Deduplicatin.ipynb\" target=\"_parent\"><img src=\"https://colab.research.google.com/assets/colab-badge.svg\" alt=\"Open In Colab\"/></a>"
      ]
    },
    {
      "cell_type": "markdown",
      "metadata": {
        "id": "ED7tXn3qeHR4"
      },
      "source": [
        "Installing Package"
      ]
    },
    {
      "cell_type": "code",
      "metadata": {
        "colab": {
          "base_uri": "https://localhost:8080/"
        },
        "id": "avWLwyeWeHDt",
        "outputId": "c4c69d33-ddf8-4d87-a93e-77dfc038387f"
      },
      "source": [
        "!pip install recordlinkage"
      ],
      "execution_count": 2,
      "outputs": [
        {
          "output_type": "stream",
          "text": [
            "Collecting recordlinkage\n",
            "\u001b[?25l  Downloading https://files.pythonhosted.org/packages/db/26/babbca39d74824e8bc17428a8eb04951a1d63318af7d02beeb2106a1ec26/recordlinkage-0.14-py3-none-any.whl (944kB)\n",
            "\r\u001b[K     |▍                               | 10kB 16.5MB/s eta 0:00:01\r\u001b[K     |▊                               | 20kB 23.0MB/s eta 0:00:01\r\u001b[K     |█                               | 30kB 20.1MB/s eta 0:00:01\r\u001b[K     |█▍                              | 40kB 18.2MB/s eta 0:00:01\r\u001b[K     |█▊                              | 51kB 15.9MB/s eta 0:00:01\r\u001b[K     |██                              | 61kB 13.3MB/s eta 0:00:01\r\u001b[K     |██▍                             | 71kB 13.5MB/s eta 0:00:01\r\u001b[K     |██▊                             | 81kB 14.9MB/s eta 0:00:01\r\u001b[K     |███▏                            | 92kB 14.1MB/s eta 0:00:01\r\u001b[K     |███▌                            | 102kB 13.6MB/s eta 0:00:01\r\u001b[K     |███▉                            | 112kB 13.6MB/s eta 0:00:01\r\u001b[K     |████▏                           | 122kB 13.6MB/s eta 0:00:01\r\u001b[K     |████▌                           | 133kB 13.6MB/s eta 0:00:01\r\u001b[K     |████▉                           | 143kB 13.6MB/s eta 0:00:01\r\u001b[K     |█████▏                          | 153kB 13.6MB/s eta 0:00:01\r\u001b[K     |█████▌                          | 163kB 13.6MB/s eta 0:00:01\r\u001b[K     |██████                          | 174kB 13.6MB/s eta 0:00:01\r\u001b[K     |██████▎                         | 184kB 13.6MB/s eta 0:00:01\r\u001b[K     |██████▋                         | 194kB 13.6MB/s eta 0:00:01\r\u001b[K     |███████                         | 204kB 13.6MB/s eta 0:00:01\r\u001b[K     |███████▎                        | 215kB 13.6MB/s eta 0:00:01\r\u001b[K     |███████▋                        | 225kB 13.6MB/s eta 0:00:01\r\u001b[K     |████████                        | 235kB 13.6MB/s eta 0:00:01\r\u001b[K     |████████▎                       | 245kB 13.6MB/s eta 0:00:01\r\u001b[K     |████████▊                       | 256kB 13.6MB/s eta 0:00:01\r\u001b[K     |█████████                       | 266kB 13.6MB/s eta 0:00:01\r\u001b[K     |█████████▍                      | 276kB 13.6MB/s eta 0:00:01\r\u001b[K     |█████████▊                      | 286kB 13.6MB/s eta 0:00:01\r\u001b[K     |██████████                      | 296kB 13.6MB/s eta 0:00:01\r\u001b[K     |██████████▍                     | 307kB 13.6MB/s eta 0:00:01\r\u001b[K     |██████████▊                     | 317kB 13.6MB/s eta 0:00:01\r\u001b[K     |███████████                     | 327kB 13.6MB/s eta 0:00:01\r\u001b[K     |███████████▌                    | 337kB 13.6MB/s eta 0:00:01\r\u001b[K     |███████████▉                    | 348kB 13.6MB/s eta 0:00:01\r\u001b[K     |████████████▏                   | 358kB 13.6MB/s eta 0:00:01\r\u001b[K     |████████████▌                   | 368kB 13.6MB/s eta 0:00:01\r\u001b[K     |████████████▉                   | 378kB 13.6MB/s eta 0:00:01\r\u001b[K     |█████████████▏                  | 389kB 13.6MB/s eta 0:00:01\r\u001b[K     |█████████████▌                  | 399kB 13.6MB/s eta 0:00:01\r\u001b[K     |█████████████▉                  | 409kB 13.6MB/s eta 0:00:01\r\u001b[K     |██████████████▎                 | 419kB 13.6MB/s eta 0:00:01\r\u001b[K     |██████████████▋                 | 430kB 13.6MB/s eta 0:00:01\r\u001b[K     |███████████████                 | 440kB 13.6MB/s eta 0:00:01\r\u001b[K     |███████████████▎                | 450kB 13.6MB/s eta 0:00:01\r\u001b[K     |███████████████▋                | 460kB 13.6MB/s eta 0:00:01\r\u001b[K     |████████████████                | 471kB 13.6MB/s eta 0:00:01\r\u001b[K     |████████████████▎               | 481kB 13.6MB/s eta 0:00:01\r\u001b[K     |████████████████▋               | 491kB 13.6MB/s eta 0:00:01\r\u001b[K     |█████████████████               | 501kB 13.6MB/s eta 0:00:01\r\u001b[K     |█████████████████▍              | 512kB 13.6MB/s eta 0:00:01\r\u001b[K     |█████████████████▊              | 522kB 13.6MB/s eta 0:00:01\r\u001b[K     |██████████████████              | 532kB 13.6MB/s eta 0:00:01\r\u001b[K     |██████████████████▍             | 542kB 13.6MB/s eta 0:00:01\r\u001b[K     |██████████████████▊             | 552kB 13.6MB/s eta 0:00:01\r\u001b[K     |███████████████████             | 563kB 13.6MB/s eta 0:00:01\r\u001b[K     |███████████████████▍            | 573kB 13.6MB/s eta 0:00:01\r\u001b[K     |███████████████████▊            | 583kB 13.6MB/s eta 0:00:01\r\u001b[K     |████████████████████▏           | 593kB 13.6MB/s eta 0:00:01\r\u001b[K     |████████████████████▌           | 604kB 13.6MB/s eta 0:00:01\r\u001b[K     |████████████████████▉           | 614kB 13.6MB/s eta 0:00:01\r\u001b[K     |█████████████████████▏          | 624kB 13.6MB/s eta 0:00:01\r\u001b[K     |█████████████████████▌          | 634kB 13.6MB/s eta 0:00:01\r\u001b[K     |█████████████████████▉          | 645kB 13.6MB/s eta 0:00:01\r\u001b[K     |██████████████████████▏         | 655kB 13.6MB/s eta 0:00:01\r\u001b[K     |██████████████████████▌         | 665kB 13.6MB/s eta 0:00:01\r\u001b[K     |███████████████████████         | 675kB 13.6MB/s eta 0:00:01\r\u001b[K     |███████████████████████▎        | 686kB 13.6MB/s eta 0:00:01\r\u001b[K     |███████████████████████▋        | 696kB 13.6MB/s eta 0:00:01\r\u001b[K     |████████████████████████        | 706kB 13.6MB/s eta 0:00:01\r\u001b[K     |████████████████████████▎       | 716kB 13.6MB/s eta 0:00:01\r\u001b[K     |████████████████████████▋       | 727kB 13.6MB/s eta 0:00:01\r\u001b[K     |█████████████████████████       | 737kB 13.6MB/s eta 0:00:01\r\u001b[K     |█████████████████████████▎      | 747kB 13.6MB/s eta 0:00:01\r\u001b[K     |█████████████████████████▊      | 757kB 13.6MB/s eta 0:00:01\r\u001b[K     |██████████████████████████      | 768kB 13.6MB/s eta 0:00:01\r\u001b[K     |██████████████████████████▍     | 778kB 13.6MB/s eta 0:00:01\r\u001b[K     |██████████████████████████▊     | 788kB 13.6MB/s eta 0:00:01\r\u001b[K     |███████████████████████████     | 798kB 13.6MB/s eta 0:00:01\r\u001b[K     |███████████████████████████▍    | 808kB 13.6MB/s eta 0:00:01\r\u001b[K     |███████████████████████████▊    | 819kB 13.6MB/s eta 0:00:01\r\u001b[K     |████████████████████████████    | 829kB 13.6MB/s eta 0:00:01\r\u001b[K     |████████████████████████████▌   | 839kB 13.6MB/s eta 0:00:01\r\u001b[K     |████████████████████████████▉   | 849kB 13.6MB/s eta 0:00:01\r\u001b[K     |█████████████████████████████▏  | 860kB 13.6MB/s eta 0:00:01\r\u001b[K     |█████████████████████████████▌  | 870kB 13.6MB/s eta 0:00:01\r\u001b[K     |█████████████████████████████▉  | 880kB 13.6MB/s eta 0:00:01\r\u001b[K     |██████████████████████████████▏ | 890kB 13.6MB/s eta 0:00:01\r\u001b[K     |██████████████████████████████▌ | 901kB 13.6MB/s eta 0:00:01\r\u001b[K     |██████████████████████████████▉ | 911kB 13.6MB/s eta 0:00:01\r\u001b[K     |███████████████████████████████▎| 921kB 13.6MB/s eta 0:00:01\r\u001b[K     |███████████████████████████████▋| 931kB 13.6MB/s eta 0:00:01\r\u001b[K     |████████████████████████████████| 942kB 13.6MB/s eta 0:00:01\r\u001b[K     |████████████████████████████████| 952kB 13.6MB/s \n",
            "\u001b[?25hRequirement already satisfied: scikit-learn>=0.19.0 in /usr/local/lib/python3.7/dist-packages (from recordlinkage) (0.22.2.post1)\n",
            "Requirement already satisfied: numpy>=1.13.0 in /usr/local/lib/python3.7/dist-packages (from recordlinkage) (1.19.5)\n",
            "Requirement already satisfied: pandas>=0.23 in /usr/local/lib/python3.7/dist-packages (from recordlinkage) (1.1.5)\n",
            "Requirement already satisfied: joblib in /usr/local/lib/python3.7/dist-packages (from recordlinkage) (1.0.1)\n",
            "Collecting jellyfish>=0.5.4\n",
            "\u001b[?25l  Downloading https://files.pythonhosted.org/packages/30/a6/4d039bc827a102f62ce7a7910713e38fdfd7c7a40aa39c72fb14938a1473/jellyfish-0.8.2-cp37-cp37m-manylinux2014_x86_64.whl (90kB)\n",
            "\u001b[K     |████████████████████████████████| 92kB 8.9MB/s \n",
            "\u001b[?25hRequirement already satisfied: scipy>=1 in /usr/local/lib/python3.7/dist-packages (from recordlinkage) (1.4.1)\n",
            "Requirement already satisfied: python-dateutil>=2.7.3 in /usr/local/lib/python3.7/dist-packages (from pandas>=0.23->recordlinkage) (2.8.1)\n",
            "Requirement already satisfied: pytz>=2017.2 in /usr/local/lib/python3.7/dist-packages (from pandas>=0.23->recordlinkage) (2018.9)\n",
            "Requirement already satisfied: six>=1.5 in /usr/local/lib/python3.7/dist-packages (from python-dateutil>=2.7.3->pandas>=0.23->recordlinkage) (1.15.0)\n",
            "Installing collected packages: jellyfish, recordlinkage\n",
            "Successfully installed jellyfish-0.8.2 recordlinkage-0.14\n"
          ],
          "name": "stdout"
        }
      ]
    },
    {
      "cell_type": "markdown",
      "metadata": {
        "id": "HOzvc0Y1d3cZ"
      },
      "source": [
        "Importing Pre-built dataset\n"
      ]
    },
    {
      "cell_type": "code",
      "metadata": {
        "id": "UxBzO-tRdb94"
      },
      "source": [
        "import recordlinkage\n",
        "from recordlinkage.datasets import load_febrl1"
      ],
      "execution_count": 3,
      "outputs": []
    },
    {
      "cell_type": "markdown",
      "metadata": {
        "id": "Oh9arkodeVFv"
      },
      "source": [
        "Dataset "
      ]
    },
    {
      "cell_type": "code",
      "metadata": {
        "colab": {
          "base_uri": "https://localhost:8080/",
          "height": 228
        },
        "id": "65HamUQNeV0w",
        "outputId": "ccbd766e-5669-48ff-a089-6ad9fd3ead6a"
      },
      "source": [
        "import pandas as pd \n",
        "dfA = load_febrl1()\n",
        "\n",
        "dfA.head()"
      ],
      "execution_count": 4,
      "outputs": [
        {
          "output_type": "execute_result",
          "data": {
            "text/html": [
              "<div>\n",
              "<style scoped>\n",
              "    .dataframe tbody tr th:only-of-type {\n",
              "        vertical-align: middle;\n",
              "    }\n",
              "\n",
              "    .dataframe tbody tr th {\n",
              "        vertical-align: top;\n",
              "    }\n",
              "\n",
              "    .dataframe thead th {\n",
              "        text-align: right;\n",
              "    }\n",
              "</style>\n",
              "<table border=\"1\" class=\"dataframe\">\n",
              "  <thead>\n",
              "    <tr style=\"text-align: right;\">\n",
              "      <th></th>\n",
              "      <th>given_name</th>\n",
              "      <th>surname</th>\n",
              "      <th>street_number</th>\n",
              "      <th>address_1</th>\n",
              "      <th>address_2</th>\n",
              "      <th>suburb</th>\n",
              "      <th>postcode</th>\n",
              "      <th>state</th>\n",
              "      <th>date_of_birth</th>\n",
              "      <th>soc_sec_id</th>\n",
              "    </tr>\n",
              "    <tr>\n",
              "      <th>rec_id</th>\n",
              "      <th></th>\n",
              "      <th></th>\n",
              "      <th></th>\n",
              "      <th></th>\n",
              "      <th></th>\n",
              "      <th></th>\n",
              "      <th></th>\n",
              "      <th></th>\n",
              "      <th></th>\n",
              "      <th></th>\n",
              "    </tr>\n",
              "  </thead>\n",
              "  <tbody>\n",
              "    <tr>\n",
              "      <th>rec-223-org</th>\n",
              "      <td>NaN</td>\n",
              "      <td>waller</td>\n",
              "      <td>6</td>\n",
              "      <td>tullaroop street</td>\n",
              "      <td>willaroo</td>\n",
              "      <td>st james</td>\n",
              "      <td>4011</td>\n",
              "      <td>wa</td>\n",
              "      <td>19081209</td>\n",
              "      <td>6988048</td>\n",
              "    </tr>\n",
              "    <tr>\n",
              "      <th>rec-122-org</th>\n",
              "      <td>lachlan</td>\n",
              "      <td>berry</td>\n",
              "      <td>69</td>\n",
              "      <td>giblin street</td>\n",
              "      <td>killarney</td>\n",
              "      <td>bittern</td>\n",
              "      <td>4814</td>\n",
              "      <td>qld</td>\n",
              "      <td>19990219</td>\n",
              "      <td>7364009</td>\n",
              "    </tr>\n",
              "    <tr>\n",
              "      <th>rec-373-org</th>\n",
              "      <td>deakin</td>\n",
              "      <td>sondergeld</td>\n",
              "      <td>48</td>\n",
              "      <td>goldfinch circuit</td>\n",
              "      <td>kooltuo</td>\n",
              "      <td>canterbury</td>\n",
              "      <td>2776</td>\n",
              "      <td>vic</td>\n",
              "      <td>19600210</td>\n",
              "      <td>2635962</td>\n",
              "    </tr>\n",
              "    <tr>\n",
              "      <th>rec-10-dup-0</th>\n",
              "      <td>kayla</td>\n",
              "      <td>harrington</td>\n",
              "      <td>NaN</td>\n",
              "      <td>maltby circuit</td>\n",
              "      <td>coaling</td>\n",
              "      <td>coolaroo</td>\n",
              "      <td>3465</td>\n",
              "      <td>nsw</td>\n",
              "      <td>19150612</td>\n",
              "      <td>9004242</td>\n",
              "    </tr>\n",
              "    <tr>\n",
              "      <th>rec-227-org</th>\n",
              "      <td>luke</td>\n",
              "      <td>purdon</td>\n",
              "      <td>23</td>\n",
              "      <td>ramsay place</td>\n",
              "      <td>mirani</td>\n",
              "      <td>garbutt</td>\n",
              "      <td>2260</td>\n",
              "      <td>vic</td>\n",
              "      <td>19831024</td>\n",
              "      <td>8099933</td>\n",
              "    </tr>\n",
              "  </tbody>\n",
              "</table>\n",
              "</div>"
            ],
            "text/plain": [
              "             given_name     surname  ... date_of_birth soc_sec_id\n",
              "rec_id                               ...                         \n",
              "rec-223-org         NaN      waller  ...      19081209    6988048\n",
              "rec-122-org     lachlan       berry  ...      19990219    7364009\n",
              "rec-373-org      deakin  sondergeld  ...      19600210    2635962\n",
              "rec-10-dup-0      kayla  harrington  ...      19150612    9004242\n",
              "rec-227-org        luke      purdon  ...      19831024    8099933\n",
              "\n",
              "[5 rows x 10 columns]"
            ]
          },
          "metadata": {
            "tags": []
          },
          "execution_count": 4
        }
      ]
    },
    {
      "cell_type": "markdown",
      "metadata": {
        "id": "za6r523WfpQD"
      },
      "source": [
        "Making record Pairs"
      ]
    },
    {
      "cell_type": "code",
      "metadata": {
        "colab": {
          "base_uri": "https://localhost:8080/"
        },
        "id": "Wh-NzjUdfphL",
        "outputId": "4b059d42-1f51-4a53-d5c0-85df12facd38"
      },
      "source": [
        "indexer = recordlinkage.Index()\n",
        "indexer.full()\n",
        "candidate_links = indexer.index(dfA)"
      ],
      "execution_count": 5,
      "outputs": [
        {
          "output_type": "stream",
          "text": [
            "WARNING:recordlinkage:indexing - performance warning - A full index can result in large number of record pairs.\n"
          ],
          "name": "stdout"
        }
      ]
    },
    {
      "cell_type": "markdown",
      "metadata": {
        "id": "KZgnRvK4fxbV"
      },
      "source": [
        ""
      ]
    },
    {
      "cell_type": "code",
      "metadata": {
        "colab": {
          "base_uri": "https://localhost:8080/"
        },
        "id": "5oaUev17fxpj",
        "outputId": "0b58dde5-fe0f-4b0d-fd6c-d7a59d8c0874"
      },
      "source": [
        "print (len(dfA), len(candidate_links)) \n",
        "# (1000*1000-1000)/2 = 499500"
      ],
      "execution_count": 6,
      "outputs": [
        {
          "output_type": "stream",
          "text": [
            "1000 499500\n"
          ],
          "name": "stdout"
        }
      ]
    },
    {
      "cell_type": "markdown",
      "metadata": {
        "id": "IFarDtp-gFbk"
      },
      "source": [
        "Blocking Method"
      ]
    },
    {
      "cell_type": "code",
      "metadata": {
        "colab": {
          "base_uri": "https://localhost:8080/"
        },
        "id": "zExBt7ljgGkJ",
        "outputId": "2e98a2f5-2843-48fc-cb60-d1dce81cf2d5"
      },
      "source": [
        "\n",
        "indexer = recordlinkage.Index()\n",
        "indexer.block('given_name')\n",
        "candidate_links = indexer.index(dfA)\n",
        "\n",
        "print (len(candidate_links))"
      ],
      "execution_count": 7,
      "outputs": [
        {
          "output_type": "stream",
          "text": [
            "2082\n"
          ],
          "name": "stdout"
        }
      ]
    },
    {
      "cell_type": "markdown",
      "metadata": {
        "id": "EOI6iUOEgHxu"
      },
      "source": [
        "Comparing Records"
      ]
    },
    {
      "cell_type": "code",
      "metadata": {
        "colab": {
          "base_uri": "https://localhost:8080/",
          "height": 288
        },
        "id": "-fDBdz9TgLpf",
        "outputId": "160ecc10-cfc4-4fa2-fd2a-381d66d6971d"
      },
      "source": [
        "# This cell can take some time to compute.\n",
        "compare_cl = recordlinkage.Compare()\n",
        "\n",
        "compare_cl.exact('given_name', 'given_name', label='given_name')\n",
        "compare_cl.string('surname', 'surname', method='jarowinkler', threshold=0.85, label='surname')\n",
        "compare_cl.exact('date_of_birth', 'date_of_birth', label='date_of_birth')\n",
        "compare_cl.exact('suburb', 'suburb', label='suburb')\n",
        "compare_cl.exact('state', 'state', label='state')\n",
        "compare_cl.string('address_1', 'address_1', threshold=0.85, label='address_1')\n",
        "\n",
        "features = compare_cl.compute(candidate_links, dfA) \n",
        "features.head(10)\n",
        "\n",
        "\n"
      ],
      "execution_count": 12,
      "outputs": [
        {
          "output_type": "execute_result",
          "data": {
            "text/html": [
              "<div>\n",
              "<style scoped>\n",
              "    .dataframe tbody tr th:only-of-type {\n",
              "        vertical-align: middle;\n",
              "    }\n",
              "\n",
              "    .dataframe tbody tr th {\n",
              "        vertical-align: top;\n",
              "    }\n",
              "\n",
              "    .dataframe thead th {\n",
              "        text-align: right;\n",
              "    }\n",
              "</style>\n",
              "<table border=\"1\" class=\"dataframe\">\n",
              "  <thead>\n",
              "    <tr style=\"text-align: right;\">\n",
              "      <th></th>\n",
              "      <th>given_name</th>\n",
              "      <th>surname</th>\n",
              "      <th>date_of_birth</th>\n",
              "      <th>suburb</th>\n",
              "      <th>state</th>\n",
              "      <th>address_1</th>\n",
              "    </tr>\n",
              "  </thead>\n",
              "  <tbody>\n",
              "    <tr>\n",
              "      <th>count</th>\n",
              "      <td>2082.0</td>\n",
              "      <td>2082.000000</td>\n",
              "      <td>2082.000000</td>\n",
              "      <td>2082.000000</td>\n",
              "      <td>2082.000000</td>\n",
              "      <td>2082.000000</td>\n",
              "    </tr>\n",
              "    <tr>\n",
              "      <th>mean</th>\n",
              "      <td>1.0</td>\n",
              "      <td>0.144092</td>\n",
              "      <td>0.139289</td>\n",
              "      <td>0.108549</td>\n",
              "      <td>0.327089</td>\n",
              "      <td>0.133045</td>\n",
              "    </tr>\n",
              "    <tr>\n",
              "      <th>std</th>\n",
              "      <td>0.0</td>\n",
              "      <td>0.351268</td>\n",
              "      <td>0.346331</td>\n",
              "      <td>0.311148</td>\n",
              "      <td>0.469263</td>\n",
              "      <td>0.339705</td>\n",
              "    </tr>\n",
              "    <tr>\n",
              "      <th>min</th>\n",
              "      <td>1.0</td>\n",
              "      <td>0.000000</td>\n",
              "      <td>0.000000</td>\n",
              "      <td>0.000000</td>\n",
              "      <td>0.000000</td>\n",
              "      <td>0.000000</td>\n",
              "    </tr>\n",
              "    <tr>\n",
              "      <th>25%</th>\n",
              "      <td>1.0</td>\n",
              "      <td>0.000000</td>\n",
              "      <td>0.000000</td>\n",
              "      <td>0.000000</td>\n",
              "      <td>0.000000</td>\n",
              "      <td>0.000000</td>\n",
              "    </tr>\n",
              "    <tr>\n",
              "      <th>50%</th>\n",
              "      <td>1.0</td>\n",
              "      <td>0.000000</td>\n",
              "      <td>0.000000</td>\n",
              "      <td>0.000000</td>\n",
              "      <td>0.000000</td>\n",
              "      <td>0.000000</td>\n",
              "    </tr>\n",
              "    <tr>\n",
              "      <th>75%</th>\n",
              "      <td>1.0</td>\n",
              "      <td>0.000000</td>\n",
              "      <td>0.000000</td>\n",
              "      <td>0.000000</td>\n",
              "      <td>1.000000</td>\n",
              "      <td>0.000000</td>\n",
              "    </tr>\n",
              "    <tr>\n",
              "      <th>max</th>\n",
              "      <td>1.0</td>\n",
              "      <td>1.000000</td>\n",
              "      <td>1.000000</td>\n",
              "      <td>1.000000</td>\n",
              "      <td>1.000000</td>\n",
              "      <td>1.000000</td>\n",
              "    </tr>\n",
              "  </tbody>\n",
              "</table>\n",
              "</div>"
            ],
            "text/plain": [
              "       given_name      surname  ...        state    address_1\n",
              "count      2082.0  2082.000000  ...  2082.000000  2082.000000\n",
              "mean          1.0     0.144092  ...     0.327089     0.133045\n",
              "std           0.0     0.351268  ...     0.469263     0.339705\n",
              "min           1.0     0.000000  ...     0.000000     0.000000\n",
              "25%           1.0     0.000000  ...     0.000000     0.000000\n",
              "50%           1.0     0.000000  ...     0.000000     0.000000\n",
              "75%           1.0     0.000000  ...     1.000000     0.000000\n",
              "max           1.0     1.000000  ...     1.000000     1.000000\n",
              "\n",
              "[8 rows x 6 columns]"
            ]
          },
          "metadata": {
            "tags": []
          },
          "execution_count": 12
        }
      ]
    },
    {
      "cell_type": "markdown",
      "metadata": {
        "id": "ZtGXgIcSmkLj"
      },
      "source": [
        "Feature Describe"
      ]
    },
    {
      "cell_type": "code",
      "metadata": {
        "colab": {
          "base_uri": "https://localhost:8080/",
          "height": 288
        },
        "id": "mzoA_POlmsOr",
        "outputId": "03b7ea9e-47b9-459a-f2aa-8ed286f504af"
      },
      "source": [
        "features.describe()"
      ],
      "execution_count": 13,
      "outputs": [
        {
          "output_type": "execute_result",
          "data": {
            "text/html": [
              "<div>\n",
              "<style scoped>\n",
              "    .dataframe tbody tr th:only-of-type {\n",
              "        vertical-align: middle;\n",
              "    }\n",
              "\n",
              "    .dataframe tbody tr th {\n",
              "        vertical-align: top;\n",
              "    }\n",
              "\n",
              "    .dataframe thead th {\n",
              "        text-align: right;\n",
              "    }\n",
              "</style>\n",
              "<table border=\"1\" class=\"dataframe\">\n",
              "  <thead>\n",
              "    <tr style=\"text-align: right;\">\n",
              "      <th></th>\n",
              "      <th>given_name</th>\n",
              "      <th>surname</th>\n",
              "      <th>date_of_birth</th>\n",
              "      <th>suburb</th>\n",
              "      <th>state</th>\n",
              "      <th>address_1</th>\n",
              "    </tr>\n",
              "  </thead>\n",
              "  <tbody>\n",
              "    <tr>\n",
              "      <th>count</th>\n",
              "      <td>2082.0</td>\n",
              "      <td>2082.000000</td>\n",
              "      <td>2082.000000</td>\n",
              "      <td>2082.000000</td>\n",
              "      <td>2082.000000</td>\n",
              "      <td>2082.000000</td>\n",
              "    </tr>\n",
              "    <tr>\n",
              "      <th>mean</th>\n",
              "      <td>1.0</td>\n",
              "      <td>0.144092</td>\n",
              "      <td>0.139289</td>\n",
              "      <td>0.108549</td>\n",
              "      <td>0.327089</td>\n",
              "      <td>0.133045</td>\n",
              "    </tr>\n",
              "    <tr>\n",
              "      <th>std</th>\n",
              "      <td>0.0</td>\n",
              "      <td>0.351268</td>\n",
              "      <td>0.346331</td>\n",
              "      <td>0.311148</td>\n",
              "      <td>0.469263</td>\n",
              "      <td>0.339705</td>\n",
              "    </tr>\n",
              "    <tr>\n",
              "      <th>min</th>\n",
              "      <td>1.0</td>\n",
              "      <td>0.000000</td>\n",
              "      <td>0.000000</td>\n",
              "      <td>0.000000</td>\n",
              "      <td>0.000000</td>\n",
              "      <td>0.000000</td>\n",
              "    </tr>\n",
              "    <tr>\n",
              "      <th>25%</th>\n",
              "      <td>1.0</td>\n",
              "      <td>0.000000</td>\n",
              "      <td>0.000000</td>\n",
              "      <td>0.000000</td>\n",
              "      <td>0.000000</td>\n",
              "      <td>0.000000</td>\n",
              "    </tr>\n",
              "    <tr>\n",
              "      <th>50%</th>\n",
              "      <td>1.0</td>\n",
              "      <td>0.000000</td>\n",
              "      <td>0.000000</td>\n",
              "      <td>0.000000</td>\n",
              "      <td>0.000000</td>\n",
              "      <td>0.000000</td>\n",
              "    </tr>\n",
              "    <tr>\n",
              "      <th>75%</th>\n",
              "      <td>1.0</td>\n",
              "      <td>0.000000</td>\n",
              "      <td>0.000000</td>\n",
              "      <td>0.000000</td>\n",
              "      <td>1.000000</td>\n",
              "      <td>0.000000</td>\n",
              "    </tr>\n",
              "    <tr>\n",
              "      <th>max</th>\n",
              "      <td>1.0</td>\n",
              "      <td>1.000000</td>\n",
              "      <td>1.000000</td>\n",
              "      <td>1.000000</td>\n",
              "      <td>1.000000</td>\n",
              "      <td>1.000000</td>\n",
              "    </tr>\n",
              "  </tbody>\n",
              "</table>\n",
              "</div>"
            ],
            "text/plain": [
              "       given_name      surname  ...        state    address_1\n",
              "count      2082.0  2082.000000  ...  2082.000000  2082.000000\n",
              "mean          1.0     0.144092  ...     0.327089     0.133045\n",
              "std           0.0     0.351268  ...     0.469263     0.339705\n",
              "min           1.0     0.000000  ...     0.000000     0.000000\n",
              "25%           1.0     0.000000  ...     0.000000     0.000000\n",
              "50%           1.0     0.000000  ...     0.000000     0.000000\n",
              "75%           1.0     0.000000  ...     1.000000     0.000000\n",
              "max           1.0     1.000000  ...     1.000000     1.000000\n",
              "\n",
              "[8 rows x 6 columns]"
            ]
          },
          "metadata": {
            "tags": []
          },
          "execution_count": 13
        }
      ]
    },
    {
      "cell_type": "markdown",
      "metadata": {
        "id": "sSGCrmAgmum0"
      },
      "source": [
        "Sum"
      ]
    },
    {
      "cell_type": "code",
      "metadata": {
        "colab": {
          "base_uri": "https://localhost:8080/"
        },
        "id": "r2djEzKlmvGe",
        "outputId": "80cb4c33-17c9-4119-ce66-5c75f074ee91"
      },
      "source": [
        "# Sum the comparison results.\n",
        "features.sum(axis=1).value_counts().sort_index(ascending=False)"
      ],
      "execution_count": 14,
      "outputs": [
        {
          "output_type": "execute_result",
          "data": {
            "text/plain": [
              "6.0     142\n",
              "5.0     145\n",
              "4.0      30\n",
              "3.0       9\n",
              "2.0     376\n",
              "1.0    1380\n",
              "dtype: int64"
            ]
          },
          "metadata": {
            "tags": []
          },
          "execution_count": 14
        }
      ]
    },
    {
      "cell_type": "markdown",
      "metadata": {
        "id": "xWEnhFP6mw8x"
      },
      "source": [
        "Match"
      ]
    },
    {
      "cell_type": "code",
      "metadata": {
        "colab": {
          "base_uri": "https://localhost:8080/",
          "height": 396
        },
        "id": "0joiopmYmyJz",
        "outputId": "132d5a41-7d52-4828-e6dd-8fcb9d3d7dda"
      },
      "source": [
        "\n",
        "matches = features[features.sum(axis=1) > 3]\n",
        "\n",
        "print(len(matches))\n",
        "matches.head(10)"
      ],
      "execution_count": 15,
      "outputs": [
        {
          "output_type": "stream",
          "text": [
            "317\n"
          ],
          "name": "stdout"
        },
        {
          "output_type": "execute_result",
          "data": {
            "text/html": [
              "<div>\n",
              "<style scoped>\n",
              "    .dataframe tbody tr th:only-of-type {\n",
              "        vertical-align: middle;\n",
              "    }\n",
              "\n",
              "    .dataframe tbody tr th {\n",
              "        vertical-align: top;\n",
              "    }\n",
              "\n",
              "    .dataframe thead th {\n",
              "        text-align: right;\n",
              "    }\n",
              "</style>\n",
              "<table border=\"1\" class=\"dataframe\">\n",
              "  <thead>\n",
              "    <tr style=\"text-align: right;\">\n",
              "      <th></th>\n",
              "      <th></th>\n",
              "      <th>given_name</th>\n",
              "      <th>surname</th>\n",
              "      <th>date_of_birth</th>\n",
              "      <th>suburb</th>\n",
              "      <th>state</th>\n",
              "      <th>address_1</th>\n",
              "    </tr>\n",
              "    <tr>\n",
              "      <th>rec_id_1</th>\n",
              "      <th>rec_id_2</th>\n",
              "      <th></th>\n",
              "      <th></th>\n",
              "      <th></th>\n",
              "      <th></th>\n",
              "      <th></th>\n",
              "      <th></th>\n",
              "    </tr>\n",
              "  </thead>\n",
              "  <tbody>\n",
              "    <tr>\n",
              "      <th>rec-122-dup-0</th>\n",
              "      <th>rec-122-org</th>\n",
              "      <td>1</td>\n",
              "      <td>1.0</td>\n",
              "      <td>1</td>\n",
              "      <td>1</td>\n",
              "      <td>1</td>\n",
              "      <td>1.0</td>\n",
              "    </tr>\n",
              "    <tr>\n",
              "      <th>rec-183-org</th>\n",
              "      <th>rec-183-dup-0</th>\n",
              "      <td>1</td>\n",
              "      <td>1.0</td>\n",
              "      <td>1</td>\n",
              "      <td>1</td>\n",
              "      <td>1</td>\n",
              "      <td>1.0</td>\n",
              "    </tr>\n",
              "    <tr>\n",
              "      <th>rec-248-dup-0</th>\n",
              "      <th>rec-248-org</th>\n",
              "      <td>1</td>\n",
              "      <td>1.0</td>\n",
              "      <td>1</td>\n",
              "      <td>1</td>\n",
              "      <td>1</td>\n",
              "      <td>1.0</td>\n",
              "    </tr>\n",
              "    <tr>\n",
              "      <th>rec-373-dup-0</th>\n",
              "      <th>rec-373-org</th>\n",
              "      <td>1</td>\n",
              "      <td>1.0</td>\n",
              "      <td>1</td>\n",
              "      <td>1</td>\n",
              "      <td>1</td>\n",
              "      <td>1.0</td>\n",
              "    </tr>\n",
              "    <tr>\n",
              "      <th>rec-10-org</th>\n",
              "      <th>rec-10-dup-0</th>\n",
              "      <td>1</td>\n",
              "      <td>1.0</td>\n",
              "      <td>1</td>\n",
              "      <td>1</td>\n",
              "      <td>1</td>\n",
              "      <td>1.0</td>\n",
              "    </tr>\n",
              "    <tr>\n",
              "      <th>rec-342-dup-0</th>\n",
              "      <th>rec-342-org</th>\n",
              "      <td>1</td>\n",
              "      <td>1.0</td>\n",
              "      <td>0</td>\n",
              "      <td>1</td>\n",
              "      <td>1</td>\n",
              "      <td>1.0</td>\n",
              "    </tr>\n",
              "    <tr>\n",
              "      <th>rec-397-org</th>\n",
              "      <th>rec-397-dup-0</th>\n",
              "      <td>1</td>\n",
              "      <td>1.0</td>\n",
              "      <td>1</td>\n",
              "      <td>1</td>\n",
              "      <td>1</td>\n",
              "      <td>0.0</td>\n",
              "    </tr>\n",
              "    <tr>\n",
              "      <th>rec-472-org</th>\n",
              "      <th>rec-472-dup-0</th>\n",
              "      <td>1</td>\n",
              "      <td>1.0</td>\n",
              "      <td>1</td>\n",
              "      <td>1</td>\n",
              "      <td>1</td>\n",
              "      <td>0.0</td>\n",
              "    </tr>\n",
              "    <tr>\n",
              "      <th>rec-330-org</th>\n",
              "      <th>rec-330-dup-0</th>\n",
              "      <td>1</td>\n",
              "      <td>0.0</td>\n",
              "      <td>1</td>\n",
              "      <td>1</td>\n",
              "      <td>1</td>\n",
              "      <td>0.0</td>\n",
              "    </tr>\n",
              "    <tr>\n",
              "      <th>rec-190-org</th>\n",
              "      <th>rec-190-dup-0</th>\n",
              "      <td>1</td>\n",
              "      <td>1.0</td>\n",
              "      <td>0</td>\n",
              "      <td>1</td>\n",
              "      <td>1</td>\n",
              "      <td>1.0</td>\n",
              "    </tr>\n",
              "  </tbody>\n",
              "</table>\n",
              "</div>"
            ],
            "text/plain": [
              "                             given_name  surname  ...  state  address_1\n",
              "rec_id_1      rec_id_2                            ...                  \n",
              "rec-122-dup-0 rec-122-org             1      1.0  ...      1        1.0\n",
              "rec-183-org   rec-183-dup-0           1      1.0  ...      1        1.0\n",
              "rec-248-dup-0 rec-248-org             1      1.0  ...      1        1.0\n",
              "rec-373-dup-0 rec-373-org             1      1.0  ...      1        1.0\n",
              "rec-10-org    rec-10-dup-0            1      1.0  ...      1        1.0\n",
              "rec-342-dup-0 rec-342-org             1      1.0  ...      1        1.0\n",
              "rec-397-org   rec-397-dup-0           1      1.0  ...      1        0.0\n",
              "rec-472-org   rec-472-dup-0           1      1.0  ...      1        0.0\n",
              "rec-330-org   rec-330-dup-0           1      0.0  ...      1        0.0\n",
              "rec-190-org   rec-190-dup-0           1      1.0  ...      1        1.0\n",
              "\n",
              "[10 rows x 6 columns]"
            ]
          },
          "metadata": {
            "tags": []
          },
          "execution_count": 15
        }
      ]
    }
  ]
}